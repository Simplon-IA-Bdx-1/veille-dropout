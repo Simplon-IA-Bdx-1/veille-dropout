{
 "cells": [
  {
   "cell_type": "markdown",
   "metadata": {
    "slideshow": {
     "slide_type": "slide"
    }
   },
   "source": [
    "## <center> Dropout"
   ]
  },
  {
   "cell_type": "markdown",
   "metadata": {
    "slideshow": {
     "slide_type": "slide"
    }
   },
   "source": [
    "<center><img src=\"Dropout.png\" width=\"400\">"
   ]
  },
  {
   "cell_type": "markdown",
   "metadata": {
    "slideshow": {
     "slide_type": "slide"
    }
   },
   "source": [
    "<div style=\"float: left; width: 30%;\">  \n",
    "<br> </br>  \n",
    "<br> </br>\n",
    "<img src=\"Dropout_exemple.png\" width=\"500\">\n",
    "</div>\n",
    "\n",
    "<div style=\"float: right; width: 70%;\">   \n",
    "\n",
    "- Neurone 1 :\n",
    " - bonne prédiction sur 80% du training set\n",
    " - mauvaise prédiction sur les 20% restants <br></br>\n",
    "- Neurone 2 : prédiction aléatoire sur la totalité du training set\n",
    "</div>"
   ]
  },
  {
   "cell_type": "markdown",
   "metadata": {
    "slideshow": {
     "slide_type": "subslide"
    }
   },
   "source": [
    "#### Sans Dropout :\n",
    "\n",
    "- Neurone 3 : <br> </br> \n",
    "meilleure réponse = 1 x \"Output Neurone 1\" + 0 x \"Output Neurone 2\"\n",
    "\n",
    "> 3 neurones mais 1 fonctionne réellement."
   ]
  },
  {
   "cell_type": "markdown",
   "metadata": {
    "slideshow": {
     "slide_type": "subslide"
    }
   },
   "source": [
    "#### Avec Dropout : \n",
    "  \n",
    "  \n",
    "Quand Neurone 1 est enlevé : \n",
    " - Neurone 3 est obligé de récupérer la réponse de Neurone 2\n",
    " - Poids non nul pour le Neurone 2 => meilleures prédictions que l'aléatoire\n",
    " - Amélioration de la performance globale du réseau\n"
   ]
  },
  {
   "cell_type": "markdown",
   "metadata": {
    "slideshow": {
     "slide_type": "slide"
    }
   },
   "source": [
    "##### Exemple d'utilisation de Dropout\n",
    "###### Utilisation Dropout dans couche visible\n",
    "<code>model = Sequential()\n",
    "model.add(Dropout(0.2)</code>          \n"
   ]
  },
  {
   "cell_type": "markdown",
   "metadata": {
    "slideshow": {
     "slide_type": "subslide"
    }
   },
   "source": [
    "###### Utilisation Dropout dans couche cachée\n",
    "<code>model = Sequential()\n",
    "model.add(Dense(60, activation='relu'))\n",
    "model.add(Dropout(0.2))</code>"
   ]
  },
  {
   "cell_type": "markdown",
   "metadata": {
    "slideshow": {
     "slide_type": "slide"
    }
   },
   "source": [
    "#### Tips pour utiliser Dropout\n",
    "- Valeurs usuelles : 20% -> 50%\n",
    "- Utiliser un gros modèle\n",
    "- Utiliser Dropout sur couches visibles et cachées\n",
    "- Utiliser un grand Learning Rate\n",
    "- Utiliser un grand Momentum\n",
    "- Contraindre la taille des poids (à 4 ou 5)"
   ]
  },
  {
   "cell_type": "markdown",
   "metadata": {
    "slideshow": {
     "slide_type": "subslide"
    }
   },
   "source": [
    "Momentum :  \n",
    "<code>sgd = SGD(lr=0.01, momentum=0.8)</code>  \n",
    "\n",
    "Contrainte de la taille des poids  \n",
    "<code>model.add(Dense(60, activation='relu', kernel_constraint=max_norm(4)))</code>"
   ]
  },
  {
   "cell_type": "markdown",
   "metadata": {
    "slideshow": {
     "slide_type": "slide"
    }
   },
   "source": [
    "#### Webographie\n",
    "http://jmlr.org/papers/volume15/srivastava14a/srivastava14a.pdf  \n",
    "\n",
    "https://machinelearningmastery.com/dropout-regularization-deep-learning-models-keras/"
   ]
  }
 ],
 "metadata": {
  "celltoolbar": "Diaporama",
  "kernelspec": {
   "display_name": "Python 3",
   "language": "python",
   "name": "python3"
  },
  "language_info": {
   "codemirror_mode": {
    "name": "ipython",
    "version": 3
   },
   "file_extension": ".py",
   "mimetype": "text/x-python",
   "name": "python",
   "nbconvert_exporter": "python",
   "pygments_lexer": "ipython3",
   "version": "3.7.5"
  }
 },
 "nbformat": 4,
 "nbformat_minor": 2
}
